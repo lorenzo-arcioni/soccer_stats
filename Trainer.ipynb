{
 "cells": [
  {
   "attachments": {},
   "cell_type": "markdown",
   "metadata": {},
   "source": [
    "# Notebook for match final results predictions"
   ]
  },
  {
   "cell_type": "code",
   "execution_count": 1,
   "metadata": {},
   "outputs": [],
   "source": [
    "import pandas as pd\n",
    "import matplotlib.pyplot as plt\n",
    "import seaborn as sns\n",
    "import numpy as np\n",
    "import pickle as pk\n",
    "\n",
    "#pd.set_option('display.max_rows', )\n",
    "pd.set_option('display.max_columns', 200)"
   ]
  },
  {
   "cell_type": "code",
   "execution_count": 2,
   "metadata": {},
   "outputs": [],
   "source": [
    "bm = 'PS'\n",
    "H = bm + 'H'\n",
    "D = bm + 'D'\n",
    "A = bm + 'A'\n",
    "\n",
    "k = 52.0\n",
    "\n",
    "def get_best(s):\n",
    "\n",
    "    h = s.FTHG\n",
    "    a = s.FTAG\n",
    "\n",
    "    BH = s[H + '_P']\n",
    "    BD = s[D + '_P']\n",
    "    BA = s[A + '_P']\n",
    "\n",
    "    if BH == max(BH, BD, BA, k) and h > a or \\\n",
    "       BD == max(BH, BD, BA, k) and h == a or \\\n",
    "       BA == max(BH, BD, BA, k) and h < a :\n",
    "        \n",
    "        return 1\n",
    "    \n",
    "    return 0"
   ]
  },
  {
   "cell_type": "code",
   "execution_count": 3,
   "metadata": {},
   "outputs": [],
   "source": [
    "filename_1 = \"Serie-A-2122.csv\"\n",
    "filename_2 = \"Serie-A-2223.csv\"\n",
    "filename_3 = \"Premier-league-2122.csv\"\n",
    "filename_4 = \"Premier-league-2223.csv\"\n",
    "filename_5 = \"Bundesliga-2122.csv\"\n",
    "filename_6 = \"Bundesliga-2223.csv\"\n",
    "filename_7 = \"Liga-2122.csv\"\n",
    "filename_8 = \"Liga-2223.csv\"\n",
    "filename_9  = \"Ligue1-2122.csv\"\n",
    "filename_10 = \"Ligue1-2223.csv\"\n",
    "filename_11 = \"Super-lig-2122.csv\"\n",
    "filename_12 = \"Super-lig-2223.csv\"\n",
    "filename_13 = \"Eredivise-2122.csv\"\n",
    "filename_14 = \"Eredivise-2223.csv\"\n",
    "filename_15 = \"Liga-1-2122.csv\"\n",
    "filename_16 = \"Liga-1-2223.csv\"\n",
    "filename_17 = \"Serie-A-2021.csv\""
   ]
  },
  {
   "cell_type": "code",
   "execution_count": 4,
   "metadata": {},
   "outputs": [
    {
     "data": {
      "text/plain": [
       "(5838, 7)"
      ]
     },
     "execution_count": 4,
     "metadata": {},
     "output_type": "execute_result"
    }
   ],
   "source": [
    "#Loading the datasets\n",
    "\n",
    "filenames = [filename_1, filename_2, filename_3, filename_4,\n",
    "             filename_5, filename_6, filename_7,\n",
    "             filename_8, filename_9, filename_10,\n",
    "             filename_11, filename_12, filename_13,\n",
    "             filename_14, filename_15, filename_16,\n",
    "             filename_17]\n",
    "\n",
    "tmp_features = ['HomeTeam','AwayTeam','FTHG','FTAG', H, D, A]\n",
    "\n",
    "df = pd.DataFrame()\n",
    "for name in filenames:\n",
    "    tmp = pd.read_csv(name, sep=',')\n",
    "    df = pd.concat([df, tmp[tmp_features]])\n",
    "df.shape"
   ]
  },
  {
   "attachments": {},
   "cell_type": "markdown",
   "metadata": {},
   "source": [
    "Create the result_index"
   ]
  },
  {
   "cell_type": "code",
   "execution_count": 5,
   "metadata": {},
   "outputs": [
    {
     "data": {
      "text/plain": [
       "PS_income_index\n",
       "0    4072\n",
       "1    1766\n",
       "Name: count, dtype: int64"
      ]
     },
     "execution_count": 5,
     "metadata": {},
     "output_type": "execute_result"
    }
   ],
   "source": [
    "df[H + '_P'] = round(100/(1 + df[H]*(1/df[D] + 1/df[A])), 2)\n",
    "df[A + '_P'] = round(100/(1 + df[A]*(1/df[H] + 1/df[D])), 2)\n",
    "df[D + '_P'] = round(100/(1 + df[D]*(1/df[H] + 1/df[A])), 2)\n",
    "\n",
    "features = [H, D, A]\n",
    "target   = [bm + '_income_index']\n",
    "\n",
    "df[bm + '_income_index'] = df.apply(get_best, axis=1)\n",
    "df[bm + '_income_index'].value_counts()"
   ]
  },
  {
   "cell_type": "code",
   "execution_count": 6,
   "metadata": {},
   "outputs": [
    {
     "data": {
      "text/plain": [
       "1.4967383918459796"
      ]
     },
     "execution_count": 6,
     "metadata": {},
     "output_type": "execute_result"
    }
   ],
   "source": [
    "df.dropna(inplace=True)\n",
    "df[df[bm + '_income_index'] == 1][[bm + 'H', bm + 'D', bm + 'A']].apply(lambda x: min(x[bm + 'H'], x[bm + 'D'], x[bm + 'A']), axis=1).mean()"
   ]
  },
  {
   "attachments": {},
   "cell_type": "markdown",
   "metadata": {},
   "source": [
    "Inserisco la colonna che mi dice quanto ho perso/vinto"
   ]
  },
  {
   "cell_type": "code",
   "execution_count": 7,
   "metadata": {},
   "outputs": [],
   "source": [
    "k = 10\n",
    "\n",
    "df['income'] = df.apply(lambda x: -k if x[bm + '_income_index'] == 0 else k*min(x[bm + 'H'], x[bm + 'D'], x[bm + 'A']), axis=1)"
   ]
  },
  {
   "attachments": {},
   "cell_type": "markdown",
   "metadata": {},
   "source": [
    "Da notare che è piu importante il valore della precision sugli 1."
   ]
  },
  {
   "attachments": {},
   "cell_type": "markdown",
   "metadata": {},
   "source": [
    "### Data preparation"
   ]
  },
  {
   "cell_type": "code",
   "execution_count": 20,
   "metadata": {},
   "outputs": [],
   "source": [
    "from sklearn.model_selection import train_test_split\n",
    "from sklearn.metrics import classification_report\n",
    "\n",
    "X = df[features].to_numpy()\n",
    "y = df[target].to_numpy().squeeze()\n",
    "\n",
    "X_train, X_test, y_train, y_test = train_test_split(X, y, test_size=0.5, random_state=0)"
   ]
  },
  {
   "attachments": {},
   "cell_type": "markdown",
   "metadata": {},
   "source": [
    "### KNN"
   ]
  },
  {
   "cell_type": "code",
   "execution_count": 64,
   "metadata": {},
   "outputs": [
    {
     "name": "stdout",
     "output_type": "stream",
     "text": [
      "              precision    recall  f1-score   support\n",
      "\n",
      "           0       0.90      0.84      0.87       405\n",
      "           1       0.69      0.77      0.73       177\n",
      "\n",
      "    accuracy                           0.82       582\n",
      "   macro avg       0.79      0.81      0.80       582\n",
      "weighted avg       0.83      0.82      0.83       582\n",
      "\n"
     ]
    },
    {
     "data": {
      "image/png": "[encoded data removed]",
      "text/plain": [
       "<Figure size 640x480 with 2 Axes>"
      ]
     },
     "metadata": {},
     "output_type": "display_data"
    }
   ],
   "source": [
    "from sklearn.neighbors import KNeighborsClassifier\n",
    "from sklearn.metrics import accuracy_score, confusion_matrix, precision_score, recall_score, ConfusionMatrixDisplay\n",
    "\n",
    "# Create Decision Tree classifer object\n",
    "clf = KNeighborsClassifier(n_jobs=-1)\n",
    "\n",
    "# Train Decision Tree Classifer\n",
    "clf = clf.fit(X_train, y_train)\n",
    "\n",
    "#Predict the response for test dataset\n",
    "y_pred = clf.predict(X_test)\n",
    "print(classification_report(y_true=y_test, y_pred=y_pred))\n",
    "\n",
    "# Create the confusion matrix\n",
    "cm = confusion_matrix(y_test, y_pred)\n",
    "\n",
    "ConfusionMatrixDisplay(confusion_matrix=cm).plot();"
   ]
  },
  {
   "attachments": {},
   "cell_type": "markdown",
   "metadata": {},
   "source": [
    "Hyperparameter tuning"
   ]
  },
  {
   "cell_type": "code",
   "execution_count": 24,
   "metadata": {},
   "outputs": [
    {
     "name": "stdout",
     "output_type": "stream",
     "text": [
      "Fitting 5 folds for each of 10800 candidates, totalling 54000 fits\n",
      "Best hyperparameters: {'algorithm': 'kd_tree', 'leaf_size': 1, 'metric': 'minkowski', 'n_neighbors': 27, 'p': 2, 'weights': 'uniform'}\n"
     ]
    }
   ],
   "source": [
    "from sklearn.model_selection import GridSearchCV\n",
    "#######################\n",
    "### K-Nearest Neighbors\n",
    "#######################\n",
    "estimator_KNN = KNeighborsClassifier()\n",
    "parameters_KNN = {\n",
    "    'n_neighbors': list(range(1, 31)),\n",
    "    'leaf_size': list(range(1, 50, 5)),\n",
    "    'p': (1, 1.5, 2),\n",
    "    'weights': ('uniform', 'distance'),\n",
    "    'metric': ('minkowski', 'chebyshev'),\n",
    "    'algorithm': ('brute', 'kd_tree', 'ball_tree')\n",
    "}\n",
    "                   \n",
    "# with GridSearch\n",
    "grid_search_KNN = GridSearchCV(\n",
    "    estimator=estimator_KNN,\n",
    "    param_grid=parameters_KNN,\n",
    "    scoring = 'f1_weighted',\n",
    "    n_jobs = -1,\n",
    "    cv = 5,\n",
    "    verbose=True\n",
    ")\n",
    "\n",
    "grid_search_KNN.fit(X, y)\n",
    "#Documentation of tuneable parameters:\n",
    "#class sklearn.neighbors.KNeighborsClassifier(n_neighbors=5, weights='uniform', \n",
    "#                                             algorithm='auto', leaf_size=30, p=2, \n",
    "#                                             metric='minkowski', metric_params=None, \n",
    "#                                             n_jobs=None, **kwargs)\n",
    "\n",
    "# Print the best hyperparameters\n",
    "print('Best hyperparameters:',  grid_search_KNN.best_params_)"
   ]
  },
  {
   "cell_type": "code",
   "execution_count": 28,
   "metadata": {},
   "outputs": [
    {
     "name": "stdout",
     "output_type": "stream",
     "text": [
      "              precision    recall  f1-score   support\n",
      "\n",
      "           0       0.96      0.82      0.88      2026\n",
      "           1       0.69      0.93      0.79       880\n",
      "\n",
      "    accuracy                           0.85      2906\n",
      "   macro avg       0.83      0.87      0.84      2906\n",
      "weighted avg       0.88      0.85      0.86      2906\n",
      "\n"
     ]
    },
    {
     "data": {
      "image/png": "[encoded data removed]",
      "text/plain": [
       "<Figure size 640x480 with 2 Axes>"
      ]
     },
     "metadata": {},
     "output_type": "display_data"
    }
   ],
   "source": [
    "from sklearn.neighbors import KNeighborsClassifier\n",
    "from sklearn.metrics import confusion_matrix, ConfusionMatrixDisplay\n",
    "\n",
    "# Create Decision Tree classifer object\n",
    "clf = KNeighborsClassifier(algorithm='kd_tree', leaf_size=1, metric='minkowski', n_neighbors=27, p=1, weights='uniform', n_jobs=-1)\n",
    "\n",
    "# Train Decision Tree Classifer\n",
    "clf = clf.fit(X_train, y_train)\n",
    "\n",
    "#Predict the response for test dataset\n",
    "y_pred = clf.predict(X_test)\n",
    "print(classification_report(y_true=y_test, y_pred=y_pred))\n",
    "\n",
    "# Create the confusion matrix\n",
    "cm = confusion_matrix(y_test, y_pred)\n",
    "\n",
    "ConfusionMatrixDisplay(confusion_matrix=cm).plot();"
   ]
  },
  {
   "attachments": {},
   "cell_type": "markdown",
   "metadata": {},
   "source": [
    "Quanto ho vinto?"
   ]
  },
  {
   "cell_type": "code",
   "execution_count": 10,
   "metadata": {},
   "outputs": [
    {
     "data": {
      "text/plain": [
       "6883.0"
      ]
     },
     "execution_count": 10,
     "metadata": {},
     "output_type": "execute_result"
    }
   ],
   "source": [
    "df_income = df.iloc[len(X_train):][(y_pred == y_test)]\n",
    "df_income[df_income['income'] > 0].income.sum() + len(df.iloc[len(X_train):][(y_pred != y_test)]) * -k"
   ]
  },
  {
   "attachments": {},
   "cell_type": "markdown",
   "metadata": {},
   "source": [
    "Salvo il modello"
   ]
  },
  {
   "cell_type": "code",
   "execution_count": 104,
   "metadata": {},
   "outputs": [],
   "source": [
    "import pickle as pk\n",
    "\n",
    "# Create Decision Tree classifer object\n",
    "clf = KNeighborsClassifier(algorithm='kd_tree', leaf_size=20, metric='minkowski', n_neighbors=1, p=1, weights='uniform', n_jobs=-1)\n",
    "\n",
    "# Train Decision Tree Classifer\n",
    "clf = clf.fit(X, y)\n",
    "\n",
    "pk.dump(clf, open(\"knn-model.sav\", 'wb'))"
   ]
  },
  {
   "cell_type": "code",
   "execution_count": null,
   "metadata": {},
   "outputs": [],
   "source": [
    "import plotly.graph_objs as go\n",
    "\n",
    "# Colori per i valori di y_train\n",
    "colors = ['red' if y == 0 else 'blue' if y==1 else 'black' for y in np.concatenate((y_train, [2]))]\n",
    "\n",
    "X_train = np.append(X_train, [[8.32, 5.37, 1.38]], axis=0)\n",
    "\n",
    "# Creazione della traccia dello scatter 3D\n",
    "trace = go.Scatter3d(\n",
    "    x=X_train[:,0],\n",
    "    y=X_train[:,1],\n",
    "    z=X_train[:,2],\n",
    "    mode='markers',\n",
    "    marker=dict(\n",
    "        size=5,\n",
    "        color=colors,\n",
    "        opacity=0.8,\n",
    "        colorscale='Viridis'\n",
    "    )\n",
    ")\n",
    "\n",
    "# Layout del grafico\n",
    "layout = go.Layout(\n",
    "    scene=dict(\n",
    "        xaxis=dict(title='H'),\n",
    "        yaxis=dict(title='D'),\n",
    "        zaxis=dict(title='A')\n",
    "    ),\n",
    "    width=1500,  # Imposta la larghezza della figura a 800 pixel\n",
    "    height=800  # Imposta l'altezza della figura a 800 pixel\n",
    ")\n",
    "\n",
    "# Creazione della figura\n",
    "fig = go.Figure(data=[trace], layout=layout)\n",
    "\n",
    "# Visualizzazione della figura\n",
    "fig.show()"
   ]
  },
  {
   "attachments": {},
   "cell_type": "markdown",
   "metadata": {},
   "source": [
    "<img src=\"knn-plot.png\">"
   ]
  }
 ],
 "metadata": {
  "kernelspec": {
   "display_name": "datas",
   "language": "python",
   "name": "python3"
  },
  "language_info": {
   "codemirror_mode": {
    "name": "ipython",
    "version": 3
   },
   "file_extension": ".py",
   "mimetype": "text/x-python",
   "name": "python",
   "nbconvert_exporter": "python",
   "pygments_lexer": "ipython3",
   "version": "3.10.11"
  },
  "orig_nbformat": 4
 },
 "nbformat": 4,
 "nbformat_minor": 2
}
